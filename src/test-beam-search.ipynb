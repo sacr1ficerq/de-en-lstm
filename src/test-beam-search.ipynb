{
 "cells": [
  {
   "cell_type": "code",
   "execution_count": 58,
   "metadata": {},
   "outputs": [
    {
     "name": "stdout",
     "output_type": "stream",
     "text": [
      "The autoreload extension is already loaded. To reload it, use:\n",
      "  %reload_ext autoreload\n"
     ]
    }
   ],
   "source": [
    "%load_ext autoreload\n",
    "%autoreload 2"
   ]
  },
  {
   "cell_type": "code",
   "execution_count": 59,
   "metadata": {},
   "outputs": [],
   "source": [
    "\n",
    "\n",
    "from config import filenames, folders\n",
    "\n",
    "from matplotlib import pyplot as plt\n",
    "\n",
    "device = 'cpu'\n",
    "\n",
    "config = {\n",
    "    'model_name': 'LSTM_3',\n",
    "    'feature': 'max-regularization-fine-tune',\n",
    "    'max_len': 42,\n",
    "    'min_freq_src': 5,\n",
    "    'min_freq_trg': 5,\n",
    "\n",
    "    'embedding_dim': 120,\n",
    "    'hidden_size': 360,\n",
    "    'num_layers': 3,\n",
    "\n",
    "    'num_epochs': 15,\n",
    "    'weight_decay': 2e-5,\n",
    "    'label_smoothing': 0.1,\n",
    "\n",
    "    'dropout_emb': 0.25,\n",
    "\n",
    "    'dropout_enc': 0.5,\n",
    "    'dropout_dec': 0.5,\n",
    "\n",
    "    'dropout_attention': 0.15,\n",
    "\n",
    "    'learning_rate': 3e-4,\n",
    "    'gamma': 0.2,\n",
    "    'patience': 1,\n",
    "    'threshold': 2e-4,\n",
    "    'batch_size': 128,\n",
    "\n",
    "    'use_tf': False,\n",
    "    'tf_from_epoch': 0,\n",
    "    'tf_start': 0.9,\n",
    "    'tf_decrease': 0.02\n",
    "}\n",
    "\n",
    "config['weights'] = '../weights/saves/lstm-save-15.pt'\n",
    "\n",
    "def plot_losses(train_losses, val_losses):\n",
    "    plt.figure(figsize=(10, 6))\n",
    "    plt.plot(train_losses, label=\"Training Loss\")\n",
    "    plt.plot(val_losses, label=\"Validation Loss\")\n",
    "    plt.xlabel(\"Epoch\")\n",
    "    plt.ylabel(\"Loss\")\n",
    "    plt.title(\"Training and Validation Loss Over Epochs\")\n",
    "    plt.legend()\n",
    "    plt.grid()\n",
    "    plt.show()"
   ]
  },
  {
   "cell_type": "code",
   "execution_count": 60,
   "metadata": {},
   "outputs": [],
   "source": [
    "from dataset import Vocab\n",
    "vocab_src = Vocab(filenames['train_src'], min_freq=config['min_freq_src'])\n",
    "vocab_trg = Vocab(filenames['train_trg'], min_freq=config['min_freq_trg'])"
   ]
  },
  {
   "cell_type": "code",
   "execution_count": 61,
   "metadata": {},
   "outputs": [
    {
     "name": "stdout",
     "output_type": "stream",
     "text": [
      "24991\n",
      "18710\n"
     ]
    }
   ],
   "source": [
    "print(len(vocab_src))\n",
    "print(len(vocab_trg))\n",
    "config['src_vocab_size'] = len(vocab_src)\n",
    "config['trg_vocab_size'] = len(vocab_trg)"
   ]
  },
  {
   "cell_type": "code",
   "execution_count": 184,
   "metadata": {},
   "outputs": [
    {
     "name": "stderr",
     "output_type": "stream",
     "text": [
      "100%|██████████| 195915/195915 [00:13<00:00, 14067.88it/s]\n",
      "100%|██████████| 986/986 [00:00<00:00, 15234.99it/s]\n"
     ]
    }
   ],
   "source": [
    "from dataset import TranslationDataset\n",
    "train_dataset = TranslationDataset(vocab_src, \n",
    "                                vocab_trg, \n",
    "                                filenames['train_src'], \n",
    "                                filenames['train_trg'], \n",
    "                                max_len=config['max_len'], \n",
    "                                device=device)\n",
    "val_dataset = TranslationDataset(vocab_src, \n",
    "                                vocab_trg, \n",
    "                                filenames['test_src'], \n",
    "                                filenames['test_trg'], \n",
    "                                max_len=72, \n",
    "                                device=device, \n",
    "                                sort_lengths=False)\n"
   ]
  },
  {
   "cell_type": "code",
   "execution_count": 63,
   "metadata": {},
   "outputs": [],
   "source": [
    "from lstm3 import train, LSTM_3\n",
    "model = LSTM_3(config=config)"
   ]
  },
  {
   "cell_type": "code",
   "execution_count": 190,
   "metadata": {},
   "outputs": [
    {
     "name": "stderr",
     "output_type": "stream",
     "text": [
      " 75%|███████▌  | 3/4 [00:17<00:05,  5.80s/it]"
     ]
    },
    {
     "name": "stdout",
     "output_type": "stream",
     "text": [
      "correct:\t 2657 244 42 9\n",
      "total:\t\t 17651 16665 15679 14701\n",
      "sinergy:\t0.78\n",
      "BP:\t\t0.864\n",
      "15.1/1.5/0.3/0.1\n"
     ]
    },
    {
     "name": "stderr",
     "output_type": "stream",
     "text": [
      "\n"
     ]
    },
    {
     "data": {
      "text/plain": [
       "np.float64(0.67)"
      ]
     },
     "execution_count": 190,
     "metadata": {},
     "output_type": "execute_result"
    }
   ],
   "source": [
    "from submission import get_bleu\n",
    "from dataset import TestDataLoader, RawDataset\n",
    "\n",
    "val_loader = TestDataLoader(val_dataset, batch_size=256)\n",
    "\n",
    "raw = RawDataset(filenames['test_src'])\n",
    "\n",
    "get_bleu(model, val_loader, vocab_trg, device=device, use_beam=0, border=0.00/100, beam_width=1, raw_dataset=raw)"
   ]
  },
  {
   "cell_type": "code",
   "execution_count": null,
   "metadata": {},
   "outputs": [
    {
     "name": "stdout",
     "output_type": "stream",
     "text": [
      "['when', 'i', 'was', '<NUM>', ',', 'i', 'remember', 'waking', 'up', 'one', 'morning', 'to', 'the', 'sound', 'of', 'joy', 'in', 'my', 'house', '.']\n",
      "['when', 'i', 'was', '<NUM>', 'years', 'old', ',', 'i', 'was', 'given', 'by', 'the', 'sound']\n"
     ]
    }
   ],
   "source": [
    "for src, trg in val_loader:\n",
    "    print(vocab_trg.decode(trg[0]))\n",
    "    model.inference(src, verbose=0, max_len=18, vocab_trg=vocab_trg, vocab_src=vocab_src, device=device, beam_width=3)\n",
    "    res = model.inference_beam(src, verbose=0, max_len=18, vocab_trg=vocab_trg, vocab_src=vocab_src, device=device, beam_width=1, border=0.01)\n",
    "    print(vocab_trg.decode(res[0]))\n",
    "    break\n",
    "# print('over')"
   ]
  },
  {
   "cell_type": "code",
   "execution_count": 141,
   "metadata": {},
   "outputs": [
    {
     "name": "stdout",
     "output_type": "stream",
     "text": [
      "torch.Size([1, 3]) torch.Size([1, 3])\n"
     ]
    },
    {
     "ename": "RuntimeError",
     "evalue": "shape '[1, 3]' is invalid for input of size 0",
     "output_type": "error",
     "traceback": [
      "\u001b[31m---------------------------------------------------------------------------\u001b[39m",
      "\u001b[31mRuntimeError\u001b[39m                              Traceback (most recent call last)",
      "\u001b[36mCell\u001b[39m\u001b[36m \u001b[39m\u001b[32mIn[141]\u001b[39m\u001b[32m, line 7\u001b[39m\n\u001b[32m      5\u001b[39m \u001b[38;5;28mprint\u001b[39m(a.size(), b.size())\n\u001b[32m      6\u001b[39m a = a.masked_select((b == \u001b[32m2\u001b[39m), )\n\u001b[32m----> \u001b[39m\u001b[32m7\u001b[39m \u001b[43ma\u001b[49m\u001b[43m.\u001b[49m\u001b[43mview\u001b[49m\u001b[43m(\u001b[49m\u001b[43ms\u001b[49m\u001b[43m)\u001b[49m\n",
      "\u001b[31mRuntimeError\u001b[39m: shape '[1, 3]' is invalid for input of size 0"
     ]
    }
   ],
   "source": [
    "import torch\n",
    "a = torch.tensor([[1, 2, 3]])\n",
    "s = a.size()\n",
    "b = torch.tensor([[0, 0, 3]])\n",
    "print(a.size(), b.size())\n",
    "a = a.masked_select((b == 2), )\n",
    "a.view(s)"
   ]
  }
 ],
 "metadata": {
  "kernelspec": {
   "display_name": "Python 3",
   "language": "python",
   "name": "python3"
  },
  "language_info": {
   "codemirror_mode": {
    "name": "ipython",
    "version": 3
   },
   "file_extension": ".py",
   "mimetype": "text/x-python",
   "name": "python",
   "nbconvert_exporter": "python",
   "pygments_lexer": "ipython3",
   "version": "3.13.2"
  }
 },
 "nbformat": 4,
 "nbformat_minor": 2
}
