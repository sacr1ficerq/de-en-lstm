{
 "cells": [
  {
   "cell_type": "code",
   "execution_count": 2,
   "metadata": {},
   "outputs": [],
   "source": [
    "%load_ext autoreload\n",
    "%autoreload 2"
   ]
  },
  {
   "cell_type": "code",
   "execution_count": null,
   "metadata": {},
   "outputs": [],
   "source": [
    "from lstm3 import train\n",
    "\n",
    "from config import filenames, folders\n",
    "\n",
    "from matplotlib import pyplot as plt\n",
    "\n",
    "device = 'cuda'\n",
    "\n",
    "config = {\n",
    "    'model_name': 'LSTM_3',\n",
    "    'feature': 'testing-teacher-forcing',\n",
    "    # 'max_len': 48,\n",
    "    'max_len': 24,\n",
    "    'min_freq_src': 6,\n",
    "    'min_freq_trg': 6,\n",
    "    \n",
    "    'src_vocab_size': 21665,\n",
    "    'trg_vocab_size': 16698,\n",
    "\n",
    "    # 'embedding_dim': 128,\n",
    "    # 'hidden_size': 256,\n",
    "    # 'num_layers': 3,\n",
    "\n",
    "    'embedding_dim': 64,\n",
    "    'hidden_size': 128,\n",
    "    'num_layers': 2,\n",
    "\n",
    "    'num_epochs': 15,\n",
    "    'weight_decay': 1e-5,\n",
    "    'label_smoothing': 0.1,\n",
    "\n",
    "    'dropout_enc': 0.1,\n",
    "    'dropout_dec': 0.1,\n",
    "    'dropout_emb': 0.1,\n",
    "    'dropout_attention': 0.1,\n",
    "\n",
    "    'learning_rate': 1e-3,\n",
    "    'gamma': 0.2,\n",
    "    'patience': 2,\n",
    "    'threshold': 5e-4,\n",
    "    'batch_size': 64\n",
    "}\n",
    "\n",
    "def plot_losses(train_losses, val_losses):\n",
    "    plt.figure(figsize=(10, 6))\n",
    "    plt.plot(train_losses, label=\"Training Loss\")\n",
    "    plt.plot(val_losses, label=\"Validation Loss\")\n",
    "    plt.xlabel(\"Epoch\")\n",
    "    plt.ylabel(\"Loss\")\n",
    "    plt.title(\"Training and Validation Loss Over Epochs\")\n",
    "    plt.legend()\n",
    "    plt.grid()\n",
    "    plt.show()"
   ]
  },
  {
   "cell_type": "code",
   "execution_count": 25,
   "metadata": {},
   "outputs": [],
   "source": [
    "from dataset import Vocab\n",
    "vocab_src = Vocab(filenames['train_src'], min_freq=config['min_freq_src'])\n",
    "vocab_trg = Vocab(filenames['train_trg'], min_freq=config['min_freq_trg'])"
   ]
  },
  {
   "cell_type": "code",
   "execution_count": 28,
   "metadata": {},
   "outputs": [
    {
     "name": "stdout",
     "output_type": "stream",
     "text": [
      "21665\n",
      "16698\n"
     ]
    }
   ],
   "source": [
    "print(len(vocab_src))\n",
    "print(len(vocab_trg))"
   ]
  },
  {
   "cell_type": "code",
   "execution_count": 27,
   "metadata": {},
   "outputs": [
    {
     "name": "stderr",
     "output_type": "stream",
     "text": [
      "100%|██████████| 195915/195915 [00:29<00:00, 6627.17it/s]\n",
      "100%|██████████| 986/986 [00:00<00:00, 6345.98it/s]\n"
     ]
    }
   ],
   "source": [
    "from dataset import TranslationDataset\n",
    "train_dataset = TranslationDataset(vocab_src, \n",
    "                                vocab_trg, \n",
    "                                filenames['train_src'], \n",
    "                                filenames['train_trg'], \n",
    "                                max_len=config['max_len'], \n",
    "                                device=device)\n",
    "val_dataset = TranslationDataset(vocab_src, \n",
    "                                vocab_trg, \n",
    "                                filenames['test_src'], \n",
    "                                filenames['test_trg'], \n",
    "                                max_len=72, \n",
    "                                device=device, \n",
    "                                sort_lengths=False)\n"
   ]
  },
  {
   "cell_type": "code",
   "execution_count": 36,
   "metadata": {},
   "outputs": [
    {
     "name": "stdout",
     "output_type": "stream",
     "text": [
      "LSTM_3(\n",
      "  (src_embedding): Embedding(21665, 64, padding_idx=1)\n",
      "  (trg_embedding): Embedding(16698, 64, padding_idx=1)\n",
      "  (emb_dropout): Dropout(p=0.1, inplace=False)\n",
      "  (encoder): LSTM(64, 128, num_layers=2, batch_first=True, dropout=0.1, bidirectional=True)\n",
      "  (encoder_output_proj): Linear(in_features=256, out_features=128, bias=True)\n",
      "  (decoder): LSTM(64, 128, num_layers=2, batch_first=True, dropout=0.1)\n",
      "  (encoder_hidden_proj): ModuleList(\n",
      "    (0-1): 2 x Linear(in_features=256, out_features=128, bias=True)\n",
      "  )\n",
      "  (encoder_cell_proj): ModuleList(\n",
      "    (0-1): 2 x Linear(in_features=256, out_features=128, bias=True)\n",
      "  )\n",
      "  (fc): Linear(in_features=256, out_features=16698, bias=True)\n",
      ")\n"
     ]
    },
    {
     "name": "stderr",
     "output_type": "stream",
     "text": [
      "  0%|          | 11/6123 [00:01<11:48,  8.63it/s]\n"
     ]
    },
    {
     "name": "stdout",
     "output_type": "stream",
     "text": [
      "-------------------------------------------------------  ------------  ------------  ------------  ------------  ------------  ------------  ------------  ------------  ------------  ------------  \n",
      "                                                   Name    Self CPU %      Self CPU   CPU total %     CPU total  CPU time avg     Self CUDA   Self CUDA %    CUDA total  CUDA time avg    # of Calls  \n",
      "-------------------------------------------------------  ------------  ------------  ------------  ------------  ------------  ------------  ------------  ------------  ------------  ------------  \n",
      "autograd::engine::evaluate_function: CudnnRnnBackwar...         2.31%      25.010ms        32.44%     351.378ms       1.273ms       4.676ms         0.38%     221.920ms     804.058us           276  \n",
      "                                      CudnnRnnBackward0         0.41%       4.473ms        28.92%     313.317ms       1.135ms       1.486ms         0.12%     198.571ms     719.460us           276  \n",
      "                              aten::_cudnn_rnn_backward        24.05%     260.529ms        28.51%     308.843ms       1.119ms     122.029ms         9.94%     197.085ms     714.076us           276  \n",
      "                                            aten::copy_         3.51%      37.967ms         3.51%      37.967ms      13.238us     191.174ms        15.58%     191.174ms      66.658us          2868  \n",
      "                                           aten::linear         0.92%       9.941ms         3.44%      37.257ms     114.990us       2.713ms         0.22%     127.194ms     392.574us           324  \n",
      "autograd::engine::evaluate_function: struct torch::a...         0.43%       4.693ms         4.64%      50.260ms     190.380us     920.000us         0.07%     125.084ms     473.803us           264  \n",
      "                     struct torch::autograd::CopySlices         1.04%      11.266ms         4.21%      45.567ms     172.603us       3.643ms         0.30%     124.164ms     470.318us           264  \n",
      "                                            aten::addmm         1.31%      14.216ms         1.43%      15.500ms      49.679us     118.567ms         9.66%     119.079ms     381.663us           312  \n",
      "                                             aten::add_         2.27%      24.544ms         2.27%      24.544ms       6.646us     106.758ms         8.70%     106.758ms      28.908us          3693  \n",
      "      autograd::engine::evaluate_function: BmmBackward0         1.26%      13.697ms         6.36%      68.916ms     130.523us       4.476ms         0.36%     106.370ms     201.458us           528  \n",
      "-------------------------------------------------------  ------------  ------------  ------------  ------------  ------------  ------------  ------------  ------------  ------------  ------------  \n",
      "Self CPU time total: 1.083s\n",
      "Self CUDA time total: 1.227s\n",
      "\n"
     ]
    },
    {
     "data": {
      "image/png": "[encoded data removed]",
      "text/plain": [
       "<Figure size 1000x600 with 1 Axes>"
      ]
     },
     "metadata": {},
     "output_type": "display_data"
    }
   ],
   "source": [
    "train_losses, val_losses = train(config=config, \n",
    "                                 filenames=filenames, \n",
    "                                 folders=folders, \n",
    "                                 use_wandb=False, \n",
    "                                 device=device, \n",
    "                                 vocab_src=vocab_src, \n",
    "                                 vocab_trg=vocab_trg,\n",
    "                                 train_dataset=train_dataset,\n",
    "                                 val_dataset=val_dataset)\n",
    "\n",
    "plot_losses(train_losses, val_losses)"
   ]
  }
 ],
 "metadata": {
  "kernelspec": {
   "display_name": "Python 3",
   "language": "python",
   "name": "python3"
  },
  "language_info": {
   "codemirror_mode": {
    "name": "ipython",
    "version": 3
   },
   "file_extension": ".py",
   "mimetype": "text/x-python",
   "name": "python",
   "nbconvert_exporter": "python",
   "pygments_lexer": "ipython3",
   "version": "3.13.2"
  }
 },
 "nbformat": 4,
 "nbformat_minor": 2
}
